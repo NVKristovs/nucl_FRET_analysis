{
 "cells": [
  {
   "cell_type": "code",
   "execution_count": 2,
   "id": "5c24d41e-1db3-4ebf-ab39-c57f53771482",
   "metadata": {
    "tags": []
   },
   "outputs": [
    {
     "data": {
      "application/vnd.jupyter.widget-view+json": {
       "model_id": "a3e4f715ec9344f0975936a1406a75f8",
       "version_major": 2,
       "version_minor": 0
      },
      "text/plain": []
     },
     "metadata": {},
     "output_type": "display_data"
    },
    {
     "name": "stderr",
     "output_type": "stream",
     "text": [
      "/opt/miniconda3/envs/moldyn/lib/python3.7/site-packages/Bio/Align/substitution_matrices/__init__.py:21: BiopythonExperimentalWarning: Bio.Align.substitution_matrices is an experimental module which may still undergo significant changes. In particular, the location of this module may change, and the Array class defined in this module may be moved to other existing or new modules in Biopython.\n",
      "  BiopythonExperimentalWarning)\n"
     ]
    }
   ],
   "source": [
    "%load_ext autoreload\n",
    "%autoreload 2\n",
    "import glob\n",
    "import warnings\n",
    "\n",
    "import LabelLib as ll  # библиотека для моделирования меток облаком\n",
    "import matplotlib.pyplot as plt\n",
    "import MDAnalysis as mda  # анализ мд\n",
    "import nglview as nv  # библиотека для визуализации молекул\n",
    "import numpy as np  # для математики\n",
    "import pynucl\n",
    "from MDAnalysis.analysis import align\n",
    "from MDAnalysis.coordinates.memory import MemoryReader\n",
    "from scipy.spatial.distance import cdist\n",
    "from tqdm.auto import tqdm"
   ]
  },
  {
   "cell_type": "code",
   "execution_count": 7,
   "id": "d851a4e9-18b9-49c1-899d-5ee4605c043e",
   "metadata": {
    "tags": []
   },
   "outputs": [],
   "source": [
    "def create_cloud_AV1(\n",
    "    atoms,\n",
    "    Dye_attachment_coordinat,\n",
    "    linker_length_Dye=20,\n",
    "    linker_width=1,\n",
    "    dye_radius=7,\n",
    "    simulation_grid_spacing=1,\n",
    "    Emean_list=[],\n",
    "    meanDist_list=[],\n",
    "):\n",
    "    av1 = ll.dyeDensityAV1(\n",
    "        atoms,\n",
    "        Dye_attachment_coordinat,\n",
    "        linker_length_Dye,\n",
    "        linker_width,\n",
    "        dye_radius,\n",
    "        simulation_grid_spacing,\n",
    "    )\n",
    "    if av1.points().size == 0:\n",
    "        Emean = None\n",
    "        meanDist = None\n",
    "        Emean_list.append(Emean)\n",
    "        meanDist_list.append(meanDist)\n",
    "    else:\n",
    "        pass\n",
    "    return av1\n",
    "\n",
    "\n",
    "def labellib_cloud_av1(\n",
    "    u,\n",
    "    chain_Dye=\"L\",\n",
    "    attach_n_Dye=15,\n",
    "    linker_length_Dye=20,\n",
    "    dye_radius=7,\n",
    "    linker_width=1,\n",
    "    simulation_grid_spacing=1,\n",
    "    Emean_list=[],\n",
    "    meanDist_list=[],\n",
    "):\n",
    "    atoms, Dye_attachment_coordinat = setings_label(\n",
    "        u, chain_Dye=chain_Dye, attach_n_Dye=attach_n_Dye\n",
    "    )\n",
    "\n",
    "    av1 = create_cloud_AV1(\n",
    "        atoms=atoms,\n",
    "        Dye_attachment_coordinat=Dye_attachment_coordinat,\n",
    "        linker_length_Dye=linker_length_Dye,\n",
    "        linker_width=linker_width,\n",
    "        dye_radius=dye_radius,\n",
    "        simulation_grid_spacing=simulation_grid_spacing,\n",
    "        Emean_list=Emean_list,\n",
    "        meanDist_list=meanDist_list,\n",
    "    )\n",
    "    #     if av1.points().size == 0:\n",
    "    #         av1 = 0\n",
    "\n",
    "    return av1, Dye_attachment_coordinat\n",
    "\n",
    "\n",
    "def labellib_length_calculating_av1(\n",
    "    universe,\n",
    "    chain_Cy3=\"L\",\n",
    "    attach_n_Cy3=24,\n",
    "    linker_length_Cy3=16,\n",
    "    linker_width=1,\n",
    "    dye_radius=7,\n",
    "    simulation_grid_spacing=1,\n",
    "    pqr1_name=None,\n",
    "    cvFrac=0.3,\n",
    "    cvRadius=10.6,\n",
    "    random_g=1000,\n",
    "):\n",
    "    \"\"\"\n",
    "    universe -- передаем команду с pdb файлом + фаил динамики\n",
    "    chain_Cy3 -- названия цепочки 1\n",
    "    attach_n_Cy3 -- номер нуклеотида на который мы прикрепляем метку на цепочке chain_Cy3\n",
    "    linker_length_Cy3 -- длина линкеров\n",
    "    linker_width -- ширина линкера\n",
    "    dye_radius_Cy3 -- радиусы наших меток\n",
    "    simulation_grid_spacing -- grid step\n",
    "    surface_weight -- параметр для перевзвешивания позиций меток (пока не работает)\n",
    "    random_g -- кол-во случайно взятых позиций из облака labelLib\n",
    "    \"\"\"\n",
    "    u = universe\n",
    "\n",
    "    av1, Cy3_attachment_point = labellib_cloud_av1(\n",
    "        u,\n",
    "        chain_Dye=chain_Cy3,\n",
    "        attach_n_Dye=attach_n_Cy3,\n",
    "        linker_length_Dye=linker_length_Cy3,\n",
    "        dye_radius=dye_radius,\n",
    "        linker_width=linker_width,\n",
    "        simulation_grid_spacing=simulation_grid_spacing,\n",
    "    )\n",
    "\n",
    "    Dye_distances, weights = new_weigth(\n",
    "        av1, Dye_attachment_coordinat=Cy3_attachment_point, s=4, r0=14\n",
    "    )\n",
    "    if not pqr1_name is None:\n",
    "        savePqr_2(\n",
    "            f\"{pqr1_name}\" + \".pqr\",\n",
    "            grid=av1,\n",
    "            weights=weights,\n",
    "        )\n",
    "    return Dye_distances, av1, weights"
   ]
  },
  {
   "cell_type": "code",
   "execution_count": 39,
   "id": "ab3ebf0a-317e-4a95-bce8-14d59c6bb64e",
   "metadata": {
    "tags": []
   },
   "outputs": [],
   "source": [
    "resid_list = [10, 15, 20, 25, 30, 35]\n",
    "rad_list = [24, 16, 16, 24, 24, 24]\n",
    "cloud_dict = {}\n",
    "dna_nu = mda.Universe(\"PDB/nucl_DNA_H1_linkered.pdb\")\n",
    "for pos, rad in zip(resid_list, rad_list):\n",
    "    Dye_distances, av1, weights = labellib_length_calculating_av1(\n",
    "        dna_nu,\n",
    "        chain_Cy3=\"J\",\n",
    "        attach_n_Cy3=pos,\n",
    "        linker_length_Cy3=rad,\n",
    "        linker_width=1,\n",
    "        dye_radius=7,\n",
    "        pqr1_name=f\"pqr_file/AV_Cy3_pos_{pos}\",\n",
    "    )\n",
    "    cloud_dict[pos] = av1"
   ]
  },
  {
   "cell_type": "code",
   "execution_count": 49,
   "id": "591612e4-1195-4473-8431-2b105c6e1268",
   "metadata": {
    "tags": []
   },
   "outputs": [
    {
     "data": {
      "application/vnd.jupyter.widget-view+json": {
       "model_id": "177f82cd51624775bc0b16ab273beeb9",
       "version_major": 2,
       "version_minor": 0
      },
      "text/plain": [
       "NGLWidget()"
      ]
     },
     "metadata": {},
     "output_type": "display_data"
    }
   ],
   "source": [
    "na_nu = mda.Universe(\"PDB/nucl_DNA_H1_linkered.pdb\")\n",
    "view = nv.show_mdanalysis(dna_nu)\n",
    "view "
   ]
  },
  {
   "cell_type": "code",
   "execution_count": 50,
   "id": "007b0919-e60e-47f0-86c4-46ea8686d30f",
   "metadata": {
    "tags": []
   },
   "outputs": [],
   "source": [
    "color = ['#CCFF33', '#9EF01A','#38B000','#008000','#006400', '#004B23']\n",
    "for i, cloud in enumerate(sorted(glob.glob('pqr_file/AV*.pqr'))):\n",
    "    view.add_component(nv.FileStructure(cloud))\n",
    "    view[-1].clear()\n",
    "    view[-1].add_surface(color=color[i],opacity=0.5)"
   ]
  },
  {
   "cell_type": "code",
   "execution_count": 9,
   "id": "dd9a5596-a503-467a-b6ea-5867297fb06a",
   "metadata": {
    "tags": []
   },
   "outputs": [],
   "source": [
    "H1_cent = dna_nu.select_atoms('segid u').center_of_geometry()"
   ]
  },
  {
   "cell_type": "code",
   "execution_count": 10,
   "id": "5a60b1ce-8611-44f9-9fd1-13052583e898",
   "metadata": {
    "tags": []
   },
   "outputs": [],
   "source": [
    "data_analysis ={}\n",
    "for key in cloud_dict.keys():\n",
    "    dist_l = []\n",
    "    cloud = cloud_dict[key].points().T[:,:-1]\n",
    "    for cloud_point in cloud: \n",
    "        dist_l.append(np.linalg.norm(H1_cent - cloud_point)) \n",
    "        data_analysis[key] = (max(dist_l)- min(dist_l))/2\n"
   ]
  },
  {
   "cell_type": "code",
   "execution_count": 11,
   "id": "c7b8c7db-8c08-416e-8b53-88aa7174e222",
   "metadata": {
    "tags": []
   },
   "outputs": [
    {
     "data": {
      "text/plain": [
       "{10: 15.335511852830964,\n",
       " 15: 11.962345821723774,\n",
       " 20: 11.664988977647134,\n",
       " 25: 21.756547002367192,\n",
       " 30: 20.020878664370425,\n",
       " 35: 21.36290153855905}"
      ]
     },
     "execution_count": 11,
     "metadata": {},
     "output_type": "execute_result"
    }
   ],
   "source": [
    "data_analysis"
   ]
  },
  {
   "cell_type": "code",
   "execution_count": 12,
   "id": "96bb2020-56c7-489f-8728-4bf5c96dd2bf",
   "metadata": {
    "tags": []
   },
   "outputs": [
    {
     "data": {
      "text/plain": [
       "[[-15.369000434875488, 75.06700134277344, 19.363000869750977],\n",
       " [1.8609999418258667, 85.62999725341797, 21.643999099731445],\n",
       " [-0.7580000162124634, 105.45700073242188, 17.94300079345703],\n",
       " [16.472000122070312, 116.02100372314453, 20.224000930786133],\n",
       " [13.852999687194824, 135.8470001220703, 16.52400016784668],\n",
       " [31.08300018310547, 146.41099548339844, 18.80500030517578]]"
      ]
     },
     "execution_count": 12,
     "metadata": {},
     "output_type": "execute_result"
    }
   ],
   "source": [
    "nucl_2 = mda.Universe(\"PDB/nucl_DNA_H1_linkered.pdb\")\n",
    "base_coor = nucl_2.select_atoms(f\"segid J and resid 10 15 20 25 30 35 and name C1'\")\n",
    "base_coor = base_coor.positions.tolist()\n",
    "base_coor"
   ]
  },
  {
   "cell_type": "code",
   "execution_count": 15,
   "id": "5aae8988-ae7e-48aa-a9b1-876f8e420e73",
   "metadata": {
    "tags": []
   },
   "outputs": [],
   "source": [
    "nucl_2 = mda.Universe(\"PDB/nucl_DNA_H1_linkered.pdb\")\n",
    "u_cube = mda.Universe(\"PDB/matrix_atoms.pdb\")\n",
    "base = nucl_2.select_atoms(f\"segid J and resid 10 15 20 25 30 35\")\n",
    "# nv.show_mdanalysis(base)\n",
    "merged = mda.Merge(\n",
    "    base.atoms,\n",
    "    # nucl_1.u.atoms\n",
    "    u_cube.atoms,\n",
    ")\n",
    "merged.atoms.write(f\"PDB/matrix_and_DNA_H1.pdb\")"
   ]
  },
  {
   "cell_type": "code",
   "execution_count": 16,
   "id": "0763bcd4-78bb-4dc1-971e-e9aec8d5904f",
   "metadata": {
    "tags": []
   },
   "outputs": [
    {
     "data": {
      "text/plain": [
       "array([45.28073406, 43.73631054, 50.91197888, 50.91197888, 54.43545504,\n",
       "       57.10227452])"
      ]
     },
     "execution_count": 16,
     "metadata": {},
     "output_type": "execute_result"
    }
   ],
   "source": [
    "R0=53.0\n",
    "E_101 = np.array([0.72, 0.76, 0.56, 0.56, 0.46, 0.39])\n",
    "E_195 = np.array([0.43, 0.48, 0.66, 0.47, 0.52, 0.44])\n",
    "Rda_101 = (((R0**6)/E_101)-R0**6)**(1/6)\n",
    "Rda_195 = (((R0**6)/E_195)-R0**6)**(1/6)\n",
    "Rda_101"
   ]
  },
  {
   "cell_type": "code",
   "execution_count": 26,
   "id": "43c6a8a4-61f6-444d-9e0a-5ad8edf9918c",
   "metadata": {
    "tags": []
   },
   "outputs": [],
   "source": [
    "selection_list_101 = []\n",
    "selection_list_195 = []\n",
    "nucl_cube = mda.Universe(\"PDB/matrix_and_DNA_H1.pdb\")\n",
    "for i, n_r in enumerate([10,15,20,25,30,35]):\n",
    "    acid_101 = nucl_cube.select_atoms(f\" sphlayer {Rda_101[i]-data_analysis[n_r]} {Rda_101[i]+data_analysis[n_r]} resid {n_r} \")\n",
    "    acid_195 = nucl_cube.select_atoms(f\" sphlayer {Rda_195[i]-data_analysis[n_r]} {Rda_195[i]+data_analysis[n_r]} resid {n_r} \")\n",
    "    selection_list_101.append(acid_101.select_atoms(' not nucleic'))\n",
    "    selection_list_195.append(acid_195.select_atoms(' not nucleic'))"
   ]
  },
  {
   "cell_type": "code",
   "execution_count": 33,
   "id": "14483775-c0d6-4be6-91b2-b5f4b8128e3d",
   "metadata": {
    "tags": []
   },
   "outputs": [
    {
     "data": {
      "text/plain": [
       "<AtomGroup with 14646 atoms>"
      ]
     },
     "execution_count": 33,
     "metadata": {},
     "output_type": "execute_result"
    }
   ],
   "source": [
    "intersection_101 = selection_list_101[0] & selection_list_101[1] & selection_list_101[2] & selection_list_101[3]  & selection_list_101[4] \n",
    "intersection_195 = selection_list_195[0] & selection_list_195[1] & selection_list_195[2] & selection_list_195[3]  & selection_list_195[4]\n",
    "intersection_101"
   ]
  },
  {
   "cell_type": "code",
   "execution_count": 37,
   "id": "a39bd2f7-1c69-4715-8ba1-8e2349e09b8f",
   "metadata": {
    "tags": []
   },
   "outputs": [
    {
     "data": {
      "application/vnd.jupyter.widget-view+json": {
       "model_id": "5bc7f01177374fc2951cf92e8d7d2d4f",
       "version_major": 2,
       "version_minor": 0
      },
      "text/plain": [
       "NGLWidget()"
      ]
     },
     "metadata": {},
     "output_type": "display_data"
    }
   ],
   "source": [
    "nucl_2 = mda.Universe(\"PDB/nucl_DNA_H1_linkered.pdb\")\n",
    "base = nucl_2.select_atoms(f\"segid u\")\n",
    "# nv.show_mdanalysis(base)\n",
    "merged_1 = mda.Merge(\n",
    "    nucl_2.atoms,\n",
    "    # nucl_1.u.atoms\n",
    "    intersection_101.atoms,\n",
    ")\n",
    "# amin = merged_2.select_atoms('')\n",
    "view = nv.show_mdanalysis(merged_1)\n",
    "view"
   ]
  },
  {
   "cell_type": "code",
   "execution_count": 36,
   "id": "611146fd-089b-45bb-a693-dee3df3bf4b7",
   "metadata": {
    "tags": []
   },
   "outputs": [
    {
     "data": {
      "application/vnd.jupyter.widget-view+json": {
       "model_id": "cc95e49fae7a4a43b202d6543262e2a3",
       "version_major": 2,
       "version_minor": 0
      },
      "text/plain": [
       "NGLWidget()"
      ]
     },
     "metadata": {},
     "output_type": "display_data"
    }
   ],
   "source": [
    "nucl_2 = mda.Universe(\"PDB/nucl_DNA_H1_linkered.pdb\")\n",
    "base = nucl_2.select_atoms(f\"segid u\")\n",
    "# nv.show_mdanalysis(base)\n",
    "merged_2 = mda.Merge(\n",
    "    nucl_2.atoms,\n",
    "    # nucl_1.u.atoms\n",
    "    intersection_195.atoms,\n",
    ")\n",
    "# amin = merged_2.select_atoms('')\n",
    "view = nv.show_mdanalysis(merged_2)\n",
    "view"
   ]
  },
  {
   "cell_type": "code",
   "execution_count": 38,
   "id": "565fc2e3-fe01-4b16-9d8d-c2bf3ba955e3",
   "metadata": {},
   "outputs": [],
   "source": [
    "merged_1.atoms.write('PDB/theor_space_ac101.pdb')\n",
    "merged_2.atoms.write('PDB/theor_space_ac195.pdb')"
   ]
  },
  {
   "cell_type": "code",
   "execution_count": null,
   "id": "8c00c0cb-367e-464e-9008-767c51c62629",
   "metadata": {},
   "outputs": [],
   "source": []
  }
 ],
 "metadata": {
  "kernelspec": {
   "display_name": "moldyn",
   "language": "python",
   "name": "conda-env-moldyn-py"
  },
  "language_info": {
   "codemirror_mode": {
    "name": "ipython",
    "version": 3
   },
   "file_extension": ".py",
   "mimetype": "text/x-python",
   "name": "python",
   "nbconvert_exporter": "python",
   "pygments_lexer": "ipython3",
   "version": "3.7.3"
  }
 },
 "nbformat": 4,
 "nbformat_minor": 5
}
