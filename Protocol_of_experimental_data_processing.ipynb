{
 "cells": [
  {
   "cell_type": "code",
   "execution_count": 28,
   "id": "0a7b3b2f-62d6-4cb6-b93d-7ba47aeeb1d4",
   "metadata": {
    "tags": []
   },
   "outputs": [
    {
     "name": "stdout",
     "output_type": "stream",
     "text": [
      "The autoreload extension is already loaded. To reload it, use:\n",
      "  %reload_ext autoreload\n"
     ]
    }
   ],
   "source": [
    "%load_ext autoreload\n",
    "%autoreload 2\n",
    "import glob\n",
    "\n",
    "import matplotlib.pyplot as plt\n",
    "import MDAnalysis as mda\n",
    "import nglview as nv\n",
    "import numpy as np\n",
    "import pynucl\n",
    "import scipy as sp\n",
    "from scipy import stats\n",
    "from Nucl_analysis import *\n",
    "from scipy.stats import binom\n",
    "from tqdm.auto import tqdm, trange"
   ]
  },
  {
   "cell_type": "markdown",
   "id": "cbb2f838-761c-488e-a8c7-4f5f1c9b3feb",
   "metadata": {},
   "source": [
    "### Task: Evaluating FRET Efficiency Values for Nucleosome with Linkers\n",
    "In this task, we use the experimental FRET efficiency values for a system consisting of a nucleosome with a linker sequence. Where the fluorophore Su3 is introduced into the DNA sequence, in the linker region of the nucleosome at positions 10-15-20-25-25-30-35 nucleotide park (n.p.). Spacers from two different companies, Syntol© and Lumiprobe©, were used to collect experimental data for the Cy3 fluorophore. \n",
    "\n",
    " - [Syntol©](https://github.com/NVKristovs/nucl_FRET_analysis/blob/main/images/Syntol_Lumiprobe_Cy3.jpg) linkers at positions 15, 20 had a spacer length of 16 Å. \n",
    " - [Lumiprobe©](https://github.com/NVKristovs/nucl_FRET_analysis/blob/main/images/Syntol_Lumiprobe_Cy3.jpg) linkers at positions 10, 25, 30, 35 had a spacer length of 24 Å. \n",
    " \n",
    "The fluorophore [Су5](https://github.com/NVKristovs/nucl_FRET_analysis) was introduced into the histone H1 sequence at positions 101 and 195 amino acids, with a spacer length of 11 Å.\n",
    "\n",
    "Reaction with [Maleimide](https://ru.lumiprobe.com/protocols/protein-maleimide-labeling)) was used to label the protein.\n",
    "\n",
    "The library [LabelLib](https://github.com/Fluorescence-Tools/LabelLib) was used to determine the available amount of Cy3 and the limitations of the localization region of Cy5 introduced into the protein sequence of 101 and 195 n.b. hrs. This library creates a three-dimensional matrix describing the label localization region based on the specified parameters.\n",
    "\n",
    "Using the LabelLib library, we determined the regions of available volume of Cy3 and possible localization of Cy5. By analyzing the coordinates of the available volume voxels obtained from LabelLib for Cy3, we determined which voxels in the Cy5 localization region allow FRET efficiency values that fall within the range of one standard deviation of FRET efficiency from experimental data. Thus, we limited the volume in which the Cy5 fluorophore amino acid could be located. We retained only those voxel coordinates that describe the experimental FRET efficiency values. We also calculated the relative probability of finding the Cy5 fluorophore in a particular voxel. This probability is calculated as the sum of the number of voxel hits within the range of one standard deviation of FRET efficiency for a fluorophore introduced at one of the positions (10/15/20/25/30/35) divided by the maximum number of hits for that Cy3 position and summed for all 6 Cy3 introduction positions.\n",
    "\n",
    "- Dimura, M., Peulen, T.O., Hanke, C.A., Prakash, A., Gohlke, H. and Seidel, C.A., 2016. [Quantitative FRET studies and integrative modeling unravel the structure and dynamics of biomolecular systems. Current opinion in structural biology](https://www.sciencedirect.com/science/article/pii/S0959440X1630197X?via%3Dihub), 40, pp.163-185.\n",
    "--------------------------------------------------------------------------------\n",
    "### Задача: Оценить значения эффективности FRET для системы: нуклеосома с линкерами. \n",
    "В данной задаче мы используем эксперементальные значения эффективность FRET для системы, состоящей из нуклеосомы с линкерной последовательностью. Где флуорофор Су3 введен в последовательность ДНК, в линкерной области нуклеосомы в позиции 10-15-20-25-30-35 нуклеотидных парк (н.п.). При сборе эксперементальных данных для флуорофора Cy3 использовались спейсеры от двух различных компаний: Syntol© и Lumiprobe©. \n",
    "Где линкеры от компании [Syntol©](https://github.com/NVKristovs/nucl_FRET_analysis/blob/main/images/Syntol_Lumiprobe_Cy3.jpg) в позициях 15, 20. — длина спейсера 16 Å.\n",
    "Линкеры от компании [Lumiprobe©](https://github.com/NVKristovs/nucl_FRET_analysis/blob/main/images/Syntol_Lumiprobe_Cy3.jpg) в позициях 10, 25, 30, 35. — длина спейсера 24 Å.\n",
    "\n",
    "Флуорофор [Су5](https://github.com/NVKristovs/nucl_FRET_analysis) введен в последовательность гистона Н1 в позиции 101 и 195 аминокислот (а.к.), длина спейсера 11 Å.\n",
    "\n",
    "Для маркировки белка использовалась реакция с [Малеимидом](https://ru.lumiprobe.com/protocols/protein-maleimide-labeling)\n",
    "\n",
    "Для определения доступного объема Cy3 и ограничений области локализации Сy5 введенного в белковую последовательность чреез 101 и 195 н.к. была использована библиотека [LabelLib](https://github.com/Fluorescence-Tools/LabelLib). Эта библиотека создает трехмерную матрицу, описывающую область локализации метки на основе заданных параметров.\n",
    "\n",
    "С использованием библиотеки LabelLib мы определили области доступного объема Cy3 и возможной локализации Cy5. Путем анализа координат вокселей доступного объема, полученных из LabelLib для Cy3, мы определили, какие воксели в области локализации Cy5 позволяют получить значения эффективности FRET, входящие в диапазон одного стандартного отклонения эффективности ФРПЭ из экспериментальных данных. Таким образом, мы ограничили объем, в котором может находиться аминокислота с флуорофором Cy5. Мы сохранили только те координаты вокселей, которые описывают экспериментальные значения эффективности FRET. Также была рассчитана относительная вероятность нахождения флуорофора Cy5 в конкретном вокселе. Эта вероятность вычисляется как сумма количества попаданий вокселя в диапазон одного стандартного отклонения эффективности ФРПЭ для флуорофора, введенного в одну из позиций (10/15/20/25/30/35), деленная на максимальное количество попаданий для данной позиции  Cy3 и суммированная для всех 6 позиций введения Cy3.\n"
   ]
  },
  {
   "cell_type": "markdown",
   "id": "b559a86b-6bcf-4c51-93cb-0a73a06f54f1",
   "metadata": {},
   "source": [
    "### Calculating the available volume matrices for Cy3 and Cy5 "
   ]
  },
  {
   "cell_type": "code",
   "execution_count": 5,
   "id": "f373502e-5f3d-49ab-bcd9-40e29a4221b0",
   "metadata": {
    "tags": []
   },
   "outputs": [],
   "source": [
    "resid_list=[10, 15, 20, 25, 30, 35] #Cy3 positions in the linker region of DNA\n",
    "rad_list = [24, 16, 16, 24, 24, 24] #Spacer radii \n",
    "cloud_dict_cy3 = {}\n",
    "dna_nu = mda.Universe(\"PDB/nucl_DNA_H1_linkered.pdb\")\n",
    "for pos, rad in zip(resid_list, rad_list):\n",
    "    av1 = labellib_length_calculating_av1(dna_nu, chain_Dy='J', attach_n_Dy=pos, linker_length_Dy=rad, \n",
    "                                                                   linker_width = 0.5, dye_radius=7, simulation_grid_spacing=3,\n",
    "                                                                   # pqr1_name=f'pqr_file/Cy3_pos_{pos}_test'\n",
    "                                                                   # You can save the available volume areas as pqr files\n",
    "                                                                  )\n",
    "    cloud_dict_cy3[pos]=av1"
   ]
  },
  {
   "cell_type": "code",
   "execution_count": 8,
   "id": "bfe1eab6-2225-43c3-9594-3b2d8d51cf56",
   "metadata": {
    "tags": []
   },
   "outputs": [],
   "source": [
    "aa_list = [101,195] # amino acid\n",
    "amino_list = [109, 109] # 109 in H1.4 is equivalent to 97 in H1.0\n",
    "amino_rad = [11+14, 11+343] # Spacer length + amino acid site length\n",
    "grid_list = [3,6] # Step of the three-dimensional matrix in angstroms \n",
    "cloud_dict_cy5 = {}\n",
    "for pos, rad, aa, grid in zip(amino_list, amino_rad, aa_list, grid_list):\n",
    "    av1 = labellib_length_calculating_av1(dna_nu, chain_Dy='u', attach_n_Dy=pos, linker_length_Dy=rad, \n",
    "                                                                   linker_width = 0.2, dye_radius=1, simulation_grid_spacing=grid,\n",
    "                                                                   # pqr1_name=f'pqr_file/Cy5_pos_{pos}_test'\n",
    "                                                                  )\n",
    "    cloud_dict_cy5[aa]=av1"
   ]
  },
  {
   "cell_type": "markdown",
   "id": "ce10659f-2314-4479-8028-4dbc4fc45102",
   "metadata": {},
   "source": [
    "#### Visualize AV"
   ]
  },
  {
   "cell_type": "code",
   "execution_count": 9,
   "id": "ed719506-7280-4173-9c6e-1a8dec13e7fc",
   "metadata": {
    "tags": []
   },
   "outputs": [
    {
     "data": {
      "application/vnd.jupyter.widget-view+json": {
       "model_id": "8c93c5ef1d0e475bb89ccd77e9cdb5ca",
       "version_major": 2,
       "version_minor": 0
      },
      "text/plain": [
       "NGLWidget()"
      ]
     },
     "metadata": {},
     "output_type": "display_data"
    }
   ],
   "source": [
    "dna_nu = mda.Universe(\"PDB/nucl_DNA_H1_linkered.pdb\")\n",
    "view = nv.show_mdanalysis(dna_nu)\n",
    "view.add_licorice(selection='protein')\n",
    "view "
   ]
  },
  {
   "cell_type": "code",
   "execution_count": 10,
   "id": "c024862b-57ea-4412-9d5d-047d74922246",
   "metadata": {
    "tags": []
   },
   "outputs": [],
   "source": [
    "# view.download_image(filename ='av_cy3.png', transparent=1, factor=8)"
   ]
  },
  {
   "cell_type": "code",
   "execution_count": 10,
   "id": "27a143ca-918d-4f84-9b74-49463a8a684a",
   "metadata": {
    "tags": []
   },
   "outputs": [],
   "source": [
    "palette= ['#5252AB', '#FB5607', '#339425', '#8338EC', '#F9C80E', '#3A86FF', '#F64A8A', '#006C67' ]"
   ]
  },
  {
   "cell_type": "code",
   "execution_count": 12,
   "id": "6a5b99f8-6162-4d1c-8a19-c77ebbe8fd95",
   "metadata": {
    "tags": []
   },
   "outputs": [],
   "source": [
    "for index, cloud in enumerate(glob.glob('pqr_file/Cy3_pos_*.pqr')):\n",
    "    view.add_component(nv.FileStructure(cloud))\n",
    "    view[-1].clear()\n",
    "    view[-1].add_surface(color=palette[index],opacity=0.7)"
   ]
  },
  {
   "cell_type": "code",
   "execution_count": 7,
   "id": "8d3afa42-ddba-402d-86ee-caaad060e944",
   "metadata": {
    "tags": []
   },
   "outputs": [],
   "source": [
    "view.add_component(\n",
    "    nv.FileStructure(\"pqr_file/Cy5_pos_109_25_1.pqr\")\n",
    ")  # The theoretical area where Cy5 introduced in 101 amino acids could be\n",
    "view[-1].clear()\n",
    "view[-1].add_surface(color=palette[6], opacity=0.8)"
   ]
  },
  {
   "cell_type": "code",
   "execution_count": 98,
   "id": "134ba46c-dc8f-435f-863f-7c79f3da0d3c",
   "metadata": {
    "tags": []
   },
   "outputs": [],
   "source": [
    "view.add_component(\n",
    "    nv.FileStructure(\"pqr_file/Cy5_pos_109_354_1.pqr\")\n",
    ")  # The theoretical area where Cy5 introduced in 195 amino acids could be\n",
    "view[-1].clear()\n",
    "view[-1].add_surface(color=palette[7], opacity=0.8)"
   ]
  },
  {
   "cell_type": "markdown",
   "id": "5c6666d2-959e-4859-b672-8b12fefce7f8",
   "metadata": {},
   "source": [
    "### Working with experimental data"
   ]
  },
  {
   "cell_type": "code",
   "execution_count": 13,
   "id": "73c74b23-8cbc-4510-acce-8dae23ae1079",
   "metadata": {
    "tags": []
   },
   "outputs": [
    {
     "data": {
      "text/plain": [
       "(array([0.16418862, 0.10858114, 0.16384877, 0.12943925, 0.1691164 ,\n",
       "        0.15836873]),\n",
       " array([0.15225149, 0.13254036, 0.14014444, 0.14549703, 0.13258284,\n",
       "        0.13500425]))"
      ]
     },
     "execution_count": 13,
     "metadata": {},
     "output_type": "execute_result"
    }
   ],
   "source": [
    "E_101 = np.array([0.72, 0.76, 0.56, 0.56, 0.46, 0.39]) # FRET experimental data\n",
    "E_195 = np.array([0.43, 0.48, 0.66, 0.47, 0.52, 0.44]) # FRET experimental data\n",
    "FWHM_array_101 = np.array([0.3865, 0.2556, 0.3857, 0.3047, 0.3981, 0.3728]) # full width at the half maximum\n",
    "FWHM_array_195 = np.array([0.3584, 0.3120, 0.3299, 0.3425, 0.3121, 0.3178]) # full width at the half maximum\n",
    "sigma_array_101 = FWHM_array_101/2.354 # convert FWHM to sigma https://brainder.org/2011/08/20/gaussian-kernels-convert-fwhm-to-sigma/\n",
    "sigma_array_195 = FWHM_array_195/2.354 # convert FWHM to sigma\n",
    "sigma_array_101, sigma_array_195"
   ]
  },
  {
   "cell_type": "code",
   "execution_count": 14,
   "id": "5bf8d253-22a6-426c-8f50-5666157255fd",
   "metadata": {
    "tags": []
   },
   "outputs": [
    {
     "data": {
      "image/png": "[encoded data removed]",
      "text/plain": [
       "<Figure size 640x480 with 1 Axes>"
      ]
     },
     "metadata": {},
     "output_type": "display_data"
    }
   ],
   "source": [
    "for mu, sigma in zip(E_101, sigma_array_101):\n",
    "    gaus( mu, sigma)"
   ]
  },
  {
   "cell_type": "code",
   "execution_count": 15,
   "id": "e975661c-ad55-4cea-94b9-178dddf254d7",
   "metadata": {
    "tags": []
   },
   "outputs": [
    {
     "data": {
      "text/plain": [
       "(array([0.88418862, 0.86858114, 0.72384877, 0.68943925, 0.6291164 ,\n",
       "        0.54836873]),\n",
       " array([0.55581138, 0.65141886, 0.39615123, 0.43056075, 0.2908836 ,\n",
       "        0.23163127]),\n",
       " array([0.58225149, 0.61254036, 0.80014444, 0.61549703, 0.65258284,\n",
       "        0.57500425]),\n",
       " array([0.27774851, 0.34745964, 0.51985556, 0.32450297, 0.38741716,\n",
       "        0.30499575]))"
      ]
     },
     "execution_count": 15,
     "metadata": {},
     "output_type": "execute_result"
    }
   ],
   "source": [
    "sigma = 1 # Choose the number of sigmas (1, 2 or 3)\n",
    "\n",
    "E_p3_101 = E_101 + sigma_array_101*sigma # max + sigma\n",
    "E_m3_101 = E_101 - sigma_array_101*sigma # max - sigma \n",
    "\n",
    "E_p3_195 = E_195 + sigma_array_195*sigma\n",
    "E_m3_195 = E_195 - sigma_array_195*sigma\n",
    "\n",
    "E_p3_101 = np.clip(E_p3_101,0.01,0.99) # limit the range of FRET efficiency values\n",
    "E_m3_101 = np.clip(E_m3_101,0.01,0.99)\n",
    "E_p3_195 = np.clip(E_p3_195,0.01,0.99)\n",
    "E_m3_195 = np.clip(E_m3_195,0.01,0.99)\n",
    "E_p3_101, E_m3_101, E_p3_195, E_m3_195"
   ]
  },
  {
   "cell_type": "code",
   "execution_count": 16,
   "id": "01b55097-d647-41a0-80f4-075d2d19d2e5",
   "metadata": {
    "tags": []
   },
   "outputs": [
    {
     "data": {
      "text/plain": [
       "(array([37.76970496, 38.68866588, 45.13627628, 46.40352393, 48.53186426,\n",
       "        51.31304125]),\n",
       " array([51.05628374, 47.75473749, 56.85740904, 55.52791466, 61.48590706,\n",
       "        64.72488491]),\n",
       " array([50.14680338, 49.10486229, 42.05979766, 49.00286741, 47.71392457,\n",
       "        50.39585204]),\n",
       " array([62.1510762 , 58.86986466, 52.30269532, 59.88848539, 57.20581771,\n",
       "        60.79830631]))"
      ]
     },
     "execution_count": 16,
     "metadata": {},
     "output_type": "execute_result"
    }
   ],
   "source": [
    "R0=53.0 # Förster radius value for the Cy3-Cy5 pair\n",
    "Rda_p3_101 = R0*((1-E_p3_101)/E_p3_101)**(1/6) #Convert FRET efficiency to Rda values (distance between the donor and the acceptor)\n",
    "Rda_m3_101 = R0*((1-E_m3_101)/E_m3_101)**(1/6)\n",
    "Rda_p3_195 = R0*((1-E_p3_195)/E_p3_195)**(1/6)\n",
    "Rda_m3_195 = R0*((1-E_m3_195)/E_m3_195)**(1/6)\n",
    "Rda_p3_101,Rda_m3_101,Rda_p3_195,Rda_m3_195"
   ]
  },
  {
   "cell_type": "code",
   "execution_count": 17,
   "id": "3a19cec5-3339-4425-9311-6710ff4ffa0e",
   "metadata": {
    "tags": []
   },
   "outputs": [
    {
     "data": {
      "text/plain": [
       "(array([37.77, 38.69, 45.14, 46.4 , 48.53, 51.31]),\n",
       " array([51.06, 47.75, 56.86, 55.53, 61.49, 64.72]),\n",
       " array([50.15, 49.1 , 42.06, 49.  , 47.71, 50.4 ]),\n",
       " array([62.15, 58.87, 52.3 , 59.89, 57.21, 60.8 ]))"
      ]
     },
     "execution_count": 17,
     "metadata": {},
     "output_type": "execute_result"
    }
   ],
   "source": [
    "Rda_in_101 = Rda_p3_101.round(2)\n",
    "Rda_out_101 = Rda_m3_101.round(2)\n",
    "Rda_in_195 = Rda_p3_195.round(2)\n",
    "Rda_out_195 = Rda_m3_195.round(2)\n",
    "Rda_in_101,Rda_out_101,Rda_in_195,Rda_out_195"
   ]
  },
  {
   "cell_type": "markdown",
   "id": "f973b052-c57a-4287-bbc9-8b9e18d6589c",
   "metadata": {},
   "source": [
    "### Calculation of the distance matrix between Cy3 and Cy5 "
   ]
  },
  {
   "cell_type": "code",
   "execution_count": 18,
   "id": "8399501f-4ff6-4132-9dba-419e1cf6f251",
   "metadata": {
    "tags": []
   },
   "outputs": [],
   "source": [
    "resid_list=[10, 15, 20, 25, 30, 35]\n",
    "dict_matrix_101 = {}\n",
    "dict_matrix_195 = {}\n",
    "for pos in cloud_dict_cy3.keys():\n",
    "    loc_101 = cloud_dict_cy5[101].points()[:3].T\n",
    "    loc_195 = cloud_dict_cy5[195].points()[:3].T\n",
    "    loc_cy3 = cloud_dict_cy3[pos].points()[:3].T\n",
    "    dict_matrix_101[pos] = sp.spatial.distance.cdist(loc_101,loc_cy3)\n",
    "    dict_matrix_195[pos] = sp.spatial.distance.cdist(loc_195,loc_cy3)"
   ]
  },
  {
   "cell_type": "code",
   "execution_count": 19,
   "id": "b93e5c23-a2b8-456c-9690-0147a9b6e874",
   "metadata": {},
   "outputs": [],
   "source": [
    "resid_list=[10, 15, 20, 25, 30, 35]\n",
    "dict_mask_101 ={}\n",
    "weight_mask_101 = {}\n",
    "dict_mask_195 ={}\n",
    "weight_mask_195 = {}\n",
    "for n, pos in enumerate(resid_list):\n",
    "    mask_101_in = dict_matrix_101[pos]>=Rda_in_101[n]\n",
    "    mask_101_out = dict_matrix_101[pos]<=Rda_out_101[n]\n",
    "    mask_101 = mask_101_in & mask_101_out\n",
    "    dict_mask_101[pos] = np.sum(mask_101 , axis=1, dtype=bool, keepdims=True ).reshape((mask_101.shape[0]))\n",
    "    weight_mask_101[pos] = np.sum(mask_101 , axis=1, keepdims=True ).reshape((mask_101.shape[0]))\n",
    "    \n",
    "    mask_195_in = dict_matrix_195[pos]>=Rda_in_195[n]\n",
    "    mask_195_out = dict_matrix_195[pos]<=Rda_out_195[n]\n",
    "    mask_195 = mask_195_in & mask_195_out\n",
    "    dict_mask_195[pos] = np.sum(mask_195 , axis=1, dtype=bool, keepdims=True ).reshape((mask_195.shape[0]))\n",
    "    weight_mask_195[pos] = np.sum(mask_195 , axis=1, keepdims=True ).reshape((mask_195.shape[0]))"
   ]
  },
  {
   "cell_type": "code",
   "execution_count": 20,
   "id": "e07db3db-3821-4d31-aa84-e042118a388b",
   "metadata": {
    "tags": []
   },
   "outputs": [],
   "source": [
    "mask_101 = (\n",
    "    dict_mask_101[10]\n",
    "    & dict_mask_101[15]\n",
    "    & dict_mask_101[20]\n",
    "    & dict_mask_101[25]\n",
    "    & dict_mask_101[30]\n",
    "    & dict_mask_101[35]\n",
    ")\n",
    "weight_sum_101 = (\n",
    "    weight_mask_101[10] / max(weight_mask_101[10])\n",
    "    + weight_mask_101[15] / max(weight_mask_101[15])\n",
    "    + weight_mask_101[20] / max(weight_mask_101[20])\n",
    "    + weight_mask_101[25] / max(weight_mask_101[25])\n",
    "    + weight_mask_101[30] / max(weight_mask_101[30])\n",
    "    + weight_mask_101[35] / max(weight_mask_101[35])\n",
    ")\n",
    "mask_195 = (\n",
    "    dict_mask_195[10]\n",
    "    & dict_mask_195[15]\n",
    "    & dict_mask_195[20]\n",
    "    & dict_mask_195[25]\n",
    "    & dict_mask_195[30]\n",
    "    & dict_mask_195[35]\n",
    ")\n",
    "weight_sum_195 = (\n",
    "    weight_mask_195[10] / max(weight_mask_195[10])\n",
    "    + weight_mask_195[15] / max(weight_mask_195[15])\n",
    "    + weight_mask_195[20] / max(weight_mask_195[20])\n",
    "    + weight_mask_195[25] / max(weight_mask_195[25])\n",
    "    + weight_mask_195[30] / max(weight_mask_195[30])\n",
    "    + weight_mask_195[35] / max(weight_mask_195[35])\n",
    ")"
   ]
  },
  {
   "cell_type": "code",
   "execution_count": 25,
   "id": "8b9954c2-60f1-406a-b3f7-9ab624ee2630",
   "metadata": {},
   "outputs": [],
   "source": [
    "resalt_101 = loc_101[mask_101]\n",
    "weight_101 = np.array(weight_sum_101[mask_101])\n",
    "resalt_195 = loc_195[mask_195]\n",
    "weight_195 = np.array(weight_sum_195[mask_195])"
   ]
  },
  {
   "cell_type": "markdown",
   "id": "b478dfa3-f5ef-4e4b-bf2b-14c499d2f0e7",
   "metadata": {
    "tags": []
   },
   "source": [
    "### Saving localization volumes as pdb"
   ]
  },
  {
   "cell_type": "code",
   "execution_count": 31,
   "id": "fdbe698a-4b81-4d5d-9e2b-c5c736b7e845",
   "metadata": {
    "tags": []
   },
   "outputs": [
    {
     "name": "stderr",
     "output_type": "stream",
     "text": [
      "/opt/miniconda3/envs/moldyn/lib/python3.7/site-packages/MDAnalysis/coordinates/PDB.py:916: UserWarning: Found no information for attr: 'altLocs' Using default value of ' '\n",
      "  \"\".format(attrname, default))\n",
      "/opt/miniconda3/envs/moldyn/lib/python3.7/site-packages/MDAnalysis/coordinates/PDB.py:916: UserWarning: Found no information for attr: 'icodes' Using default value of ' '\n",
      "  \"\".format(attrname, default))\n",
      "/opt/miniconda3/envs/moldyn/lib/python3.7/site-packages/MDAnalysis/coordinates/PDB.py:916: UserWarning: Found no information for attr: 'occupancies' Using default value of '1.0'\n",
      "  \"\".format(attrname, default))\n"
     ]
    }
   ],
   "source": [
    "for acid, name, w in zip([resalt_101,resalt_195],[f'loc_101_s{sigma}',f'loc_195_s{sigma}'], [weight_101,weight_195]):\n",
    "    n_atoms = acid.shape[0]\n",
    "    c_u = mda.Universe.empty(n_atoms,n_residues=n_atoms,n_segments=1,\n",
    "                       atom_resindex=np.arange(n_atoms),\n",
    "                       residue_segindex=[0]*n_atoms, \n",
    "                       trajectory=False)\n",
    "    c_u.add_TopologyAttr('name',[\"VIR\"]*n_atoms)\n",
    "    c_u.add_TopologyAttr('resname',[\"VIR\"]*n_atoms)\n",
    "    c_u.add_TopologyAttr('resid',[1]*n_atoms)\n",
    "    c_u.add_TopologyAttr('segid', [\"VIR\"])\n",
    "    c_u.add_TopologyAttr('mass',[1]*n_atoms)\n",
    "    c_u.add_TopologyAttr('type', ['D']*n_atoms)\n",
    "    c_u.add_TopologyAttr('tempfactors')\n",
    "    c_u.atoms.tempfactors = w\n",
    "\n",
    "    #altLocs icodes occupancies tempfactors\n",
    "    c_u.load_new(acid, format=None)\n",
    "    c_u.atoms.write(f\"PDB/{name}.pdb\")"
   ]
  },
  {
   "cell_type": "code",
   "execution_count": 32,
   "id": "8522fdab-4a69-4844-a2ef-3c8d22c456de",
   "metadata": {
    "tags": []
   },
   "outputs": [
    {
     "data": {
      "application/vnd.jupyter.widget-view+json": {
       "model_id": "4667167447a84d3aaafb4032dbaefb73",
       "version_major": 2,
       "version_minor": 0
      },
      "text/plain": [
       "NGLWidget()"
      ]
     },
     "metadata": {},
     "output_type": "display_data"
    }
   ],
   "source": [
    "palette= ['#5252AB', '#FB5607', '#339425', '#8338EC', '#F9C80E', '#3A86FF', '#F64A8A', '#006C67' ]\n",
    "dna_nu = mda.Universe(\"PDB/nucl_DNA_H1_linkered.pdb\")\n",
    "view = nv.show_mdanalysis(dna_nu)\n",
    "view.clear()\n",
    "# view.add_cartoon(selection='nucleic',  color = '#6C757D')\n",
    "view.add_ribbon(selection='nucleic',  color = '#6C757D')\n",
    "# view.add_base(selection='nucleic',  color = '#6C757D')\n",
    "view.add_cartoon(selection='protein',  color = '#284B63')\n",
    "view "
   ]
  },
  {
   "cell_type": "code",
   "execution_count": 121,
   "id": "24bf0f56-e12e-448e-8695-b28de6963293",
   "metadata": {
    "tags": []
   },
   "outputs": [],
   "source": [
    "# view.download_image(filename ='101_s3_f.png', transparent=1, factor=8)"
   ]
  },
  {
   "cell_type": "code",
   "execution_count": 33,
   "id": "3aa5758f-62b9-40de-9e6e-d8bba860ef56",
   "metadata": {
    "tags": []
   },
   "outputs": [],
   "source": [
    "\n",
    "view.add_component(nv.FileStructure('PDB/loc_101_s1.pdb'))\n",
    "view[-1].clear()\n",
    "view[-1].add_hyperball(shrink = 0.9, opacity=0.9, radius=7, colorScheme='bfactor', colorScale='Reds', colorReverse=False)"
   ]
  },
  {
   "cell_type": "code",
   "execution_count": 34,
   "id": "4fa2588c-eef0-4062-a0a6-50930a4022af",
   "metadata": {
    "tags": []
   },
   "outputs": [],
   "source": [
    "view.add_component(nv.FileStructure('PDB/loc_195_s1.pdb'))\n",
    "view[-1].clear()\n",
    "view[-1].add_hyperball(shrink = 0.9, opacity=0.9, radius=7, colorScheme='bfactor', colorScale='Reds', colorReverse=False)"
   ]
  },
  {
   "cell_type": "code",
   "execution_count": 120,
   "id": "c414c024-cdf8-4b48-81c5-ad46495aca16",
   "metadata": {
    "tags": []
   },
   "outputs": [],
   "source": [
    "view.add_component(nv.FileStructure('PDB/loc_101_s3.pdb'))\n",
    "view[-1].clear()\n",
    "view[-1].add_hyperball(shrink = 0.9, opacity=0.9, radius=7, colorScheme='bfactor', colorScale='Reds', colorReverse=False)"
   ]
  },
  {
   "cell_type": "code",
   "execution_count": 113,
   "id": "c606a1be-08e9-4645-9365-8da282b48156",
   "metadata": {
    "tags": []
   },
   "outputs": [],
   "source": [
    "view.add_component(nv.FileStructure('PDB/loc_195_s3.pdb'))\n",
    "view[-1].clear()\n",
    "view[-1].add_hyperball(shrink = 0.9, opacity=0.9, radius=7, colorScheme='bfactor', colorScale='Reds', colorReverse=False)"
   ]
  }
 ],
 "metadata": {
  "kernelspec": {
   "display_name": "moldyn",
   "language": "python",
   "name": "conda-env-moldyn-py"
  },
  "language_info": {
   "codemirror_mode": {
    "name": "ipython",
    "version": 3
   },
   "file_extension": ".py",
   "mimetype": "text/x-python",
   "name": "python",
   "nbconvert_exporter": "python",
   "pygments_lexer": "ipython3",
   "version": "3.7.3"
  }
 },
 "nbformat": 4,
 "nbformat_minor": 5
}
